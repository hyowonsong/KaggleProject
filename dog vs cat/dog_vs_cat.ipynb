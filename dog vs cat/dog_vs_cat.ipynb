{
  "nbformat": 4,
  "nbformat_minor": 0,
  "metadata": {
    "colab": {
      "provenance": [],
      "machine_shape": "hm",
      "gpuType": "T4"
    },
    "kernelspec": {
      "name": "python3",
      "display_name": "Python 3"
    },
    "language_info": {
      "name": "python"
    },
    "accelerator": "GPU"
  },
  "cells": [
    {
      "cell_type": "code",
      "execution_count": 4,
      "metadata": {
        "colab": {
          "base_uri": "https://localhost:8080/"
        },
        "id": "xE0M5PV6YPPP",
        "outputId": "50b7e87a-b8f4-4ba3-887f-90daaa0cdd7d"
      },
      "outputs": [
        {
          "output_type": "stream",
          "name": "stdout",
          "text": [
            "Warning: Your Kaggle API key is readable by other users on this system! To fix this, you can run 'chmod 600 /content/kaggle.json'\n",
            "Downloading dogs-vs-cats-redux-kernels-edition.zip to /content\n",
            "100% 813M/814M [00:08<00:00, 105MB/s] \n",
            "100% 814M/814M [00:08<00:00, 104MB/s]\n"
          ]
        }
      ],
      "source": [
        "import os\n",
        "os.environ['KAGGLE_CONFIG_DIR'] = '/content/'\n",
        "\n",
        "!kaggle competitions download -c dogs-vs-cats-redux-kernels-edition"
      ]
    },
    {
      "cell_type": "code",
      "source": [
        "!unzip -q dogs-vs-cats-redux-kernels-edition.zip -d ."
      ],
      "metadata": {
        "id": "dRqSCwGiYt-8"
      },
      "execution_count": 5,
      "outputs": []
    },
    {
      "cell_type": "code",
      "source": [
        "!unzip -q train.zip -d ."
      ],
      "metadata": {
        "id": "T_ti9bC1Yt8X"
      },
      "execution_count": 6,
      "outputs": []
    },
    {
      "cell_type": "code",
      "source": [
        "%rm -rf dataset"
      ],
      "metadata": {
        "id": "pXg-vQ9nS_XJ"
      },
      "execution_count": 9,
      "outputs": []
    },
    {
      "cell_type": "code",
      "source": [
        "import os\n",
        "import tensorflow as tf\n",
        "\n",
        "print( len(os.listdir('/content/train/')))\n",
        "\n",
        "os.mkdir('/content/dataset')\n",
        "os.mkdir('/content/dataset/cat')\n",
        "os.mkdir('/content/dataset/dog')\n",
        "\n",
        "# tf.keras 이용해서 이미지 숫자화\n",
        "# tf.keras.proprocessing.image_dataset_from_directory()"
      ],
      "metadata": {
        "colab": {
          "base_uri": "https://localhost:8080/"
        },
        "id": "OCmkXweLYt6D",
        "outputId": "33fff5dd-42b2-44d5-ac7a-19086c41ca35"
      },
      "execution_count": 10,
      "outputs": [
        {
          "output_type": "stream",
          "name": "stdout",
          "text": [
            "25000\n"
          ]
        }
      ]
    },
    {
      "cell_type": "code",
      "source": [
        "from re import I\n",
        "import shutil\n",
        "# 모든 고양이 사진은 cat폴더, 모든 개 사진은 dog 폴더\n",
        "\n",
        "for i in os.listdir('/content/train/'):\n",
        "  if 'cat' in i:\n",
        "    shutil.copyfile('/content/train/'+i, '/content/dataset/cat/' + i)\n",
        "  if 'dog' in i:\n",
        "    shutil.copyfile('/content/train/'+i, '/content/dataset/dog/' + i)"
      ],
      "metadata": {
        "id": "dHzwIkx6Yt3q"
      },
      "execution_count": 15,
      "outputs": []
    },
    {
      "cell_type": "code",
      "source": [
        "# tf.keras 이용해서 이미지 숫자화\n",
        "train_ds = tf.keras.preprocessing.image_dataset_from_directory(\n",
        "    '/content/dataset/',\n",
        "    image_size = (64,64),\n",
        "    batch_size=32,              # 이미지 2만장 한번에 넣지 않고 batch 숫자만큼\n",
        "    subset = 'training',        # 여기는 training set\n",
        "    validation_split = 0.2,\n",
        "    seed = 1234\n",
        ")\n",
        "\n",
        "val_ds = tf.keras.preprocessing.image_dataset_from_directory(\n",
        "    '/content/dataset/',\n",
        "    image_size = (64,64),\n",
        "    batch_size=64,              # 이미지 2만장 한번에 넣지 않고 batch 숫자만큼\n",
        "    subset = 'validation',      # 여기는 validation set\n",
        "    validation_split = 0.2,\n",
        "    seed = 1234\n",
        ")\n",
        "\n",
        "print(train_ds)\n",
        "\n",
        "def 전처리함수(i, 정답):\n",
        "  i = tf.cast(i/255.0, tf.float32)\n",
        "  return i, 정답\n",
        "\n",
        "train_ds = train_ds.map(전처리함수)\n",
        "val_ds = val_ds.map(전처리함수)\n",
        "\n",
        "\n",
        "#import matplotlib.pyplot as plt\n",
        "\n",
        "#for i, 정답 in train_ds.take(1):\n",
        "#  print(i)\n",
        "#  print(정답)\n",
        "#  plt.imshow( i[0].numpy().astype('uint8'))\n",
        "#  plt.show()"
      ],
      "metadata": {
        "colab": {
          "base_uri": "https://localhost:8080/"
        },
        "id": "ooEvf-HYYt1k",
        "outputId": "a4171a08-9351-4087-b084-312ea44af3f7"
      },
      "execution_count": 25,
      "outputs": [
        {
          "output_type": "stream",
          "name": "stdout",
          "text": [
            "Found 25000 files belonging to 2 classes.\n",
            "Using 20000 files for training.\n",
            "Found 25000 files belonging to 2 classes.\n",
            "Using 5000 files for validation.\n",
            "<_PrefetchDataset element_spec=(TensorSpec(shape=(None, 64, 64, 3), dtype=tf.float32, name=None), TensorSpec(shape=(None,), dtype=tf.int32, name=None))>\n"
          ]
        }
      ]
    },
    {
      "cell_type": "code",
      "source": [
        "model = tf.keras.Sequential([\n",
        "\n",
        "    tf.keras.layers.experimental.preprocessing.RandomFlip('horizontal', input_shape=(64,64,3) ),\n",
        "    tf.keras.layers.experimental.preprocessing.RandomRotation(0.1),\n",
        "    tf.keras.layers.experimental.preprocessing.RandomZoom(0.1),\n",
        "\n",
        "\n",
        "    tf.keras.layers.Conv2D(32, (3,3), padding='same', activation = 'relu'),\n",
        "    tf.keras.layers.MaxPooling2D((2,2) ),\n",
        "    tf.keras.layers.Conv2D(64, (3,3), padding='same', activation = 'relu'),\n",
        "    tf.keras.layers.MaxPooling2D((2,2) ),\n",
        "    tf.keras.layers.Dropout(0.2),\n",
        "    tf.keras.layers.Conv2D(128, (3,3), padding='same', activation = 'relu'),\n",
        "    tf.keras.layers.MaxPooling2D((2,2) ),\n",
        "    tf.keras.layers.Flatten(),\n",
        "    tf.keras.layers.Dense(128, activation= 'relu'),\n",
        "    tf.keras.layers.Dropout(0.2),\n",
        "    tf.keras.layers.Dense(1,activation = \"sigmoid\"),\n",
        "])\n",
        "model.summary()\n",
        "\n",
        "model.compile(loss = 'binary_crossentropy', optimizer = 'adam', metrics=['accuracy'])\n",
        "model.fit(train_ds, validation_data = val_ds, epochs=5)"
      ],
      "metadata": {
        "colab": {
          "base_uri": "https://localhost:8080/"
        },
        "id": "iR1vSU-gYtzG",
        "outputId": "60b5dca2-cdef-4698-be1e-1cc0319b5301"
      },
      "execution_count": 30,
      "outputs": [
        {
          "output_type": "stream",
          "name": "stdout",
          "text": [
            "Model: \"sequential_7\"\n",
            "_________________________________________________________________\n",
            " Layer (type)                Output Shape              Param #   \n",
            "=================================================================\n",
            " random_flip_5 (RandomFlip)  (None, 64, 64, 3)         0         \n",
            "                                                                 \n",
            " random_rotation_5 (RandomR  (None, 64, 64, 3)         0         \n",
            " otation)                                                        \n",
            "                                                                 \n",
            " random_zoom_5 (RandomZoom)  (None, 64, 64, 3)         0         \n",
            "                                                                 \n",
            " conv2d_21 (Conv2D)          (None, 64, 64, 32)        896       \n",
            "                                                                 \n",
            " max_pooling2d_21 (MaxPooli  (None, 32, 32, 32)        0         \n",
            " ng2D)                                                           \n",
            "                                                                 \n",
            " conv2d_22 (Conv2D)          (None, 32, 32, 64)        18496     \n",
            "                                                                 \n",
            " max_pooling2d_22 (MaxPooli  (None, 16, 16, 64)        0         \n",
            " ng2D)                                                           \n",
            "                                                                 \n",
            " dropout_14 (Dropout)        (None, 16, 16, 64)        0         \n",
            "                                                                 \n",
            " conv2d_23 (Conv2D)          (None, 16, 16, 128)       73856     \n",
            "                                                                 \n",
            " max_pooling2d_23 (MaxPooli  (None, 8, 8, 128)         0         \n",
            " ng2D)                                                           \n",
            "                                                                 \n",
            " flatten_7 (Flatten)         (None, 8192)              0         \n",
            "                                                                 \n",
            " dense_14 (Dense)            (None, 128)               1048704   \n",
            "                                                                 \n",
            " dropout_15 (Dropout)        (None, 128)               0         \n",
            "                                                                 \n",
            " dense_15 (Dense)            (None, 1)                 129       \n",
            "                                                                 \n",
            "=================================================================\n",
            "Total params: 1142081 (4.36 MB)\n",
            "Trainable params: 1142081 (4.36 MB)\n",
            "Non-trainable params: 0 (0.00 Byte)\n",
            "_________________________________________________________________\n",
            "Epoch 1/5\n",
            "625/625 [==============================] - 8s 10ms/step - loss: 0.6487 - accuracy: 0.6125 - val_loss: 0.5736 - val_accuracy: 0.6950\n",
            "Epoch 2/5\n",
            "625/625 [==============================] - 7s 10ms/step - loss: 0.5550 - accuracy: 0.7151 - val_loss: 0.4900 - val_accuracy: 0.7636\n",
            "Epoch 3/5\n",
            "625/625 [==============================] - 6s 10ms/step - loss: 0.5037 - accuracy: 0.7533 - val_loss: 0.4549 - val_accuracy: 0.7812\n",
            "Epoch 4/5\n",
            "625/625 [==============================] - 6s 10ms/step - loss: 0.4741 - accuracy: 0.7730 - val_loss: 0.4404 - val_accuracy: 0.7956\n",
            "Epoch 5/5\n",
            "625/625 [==============================] - 7s 10ms/step - loss: 0.4570 - accuracy: 0.7827 - val_loss: 0.4116 - val_accuracy: 0.8158\n"
          ]
        },
        {
          "output_type": "execute_result",
          "data": {
            "text/plain": [
              "<keras.src.callbacks.History at 0x7e83e6a6af80>"
            ]
          },
          "metadata": {},
          "execution_count": 30
        }
      ]
    },
    {
      "cell_type": "code",
      "source": [
        "model.save('새폴더/model1')"
      ],
      "metadata": {
        "id": "S6L27VOUYtv4"
      },
      "execution_count": 31,
      "outputs": []
    },
    {
      "cell_type": "code",
      "source": [
        "불러온모델 = tf.keras.models.load_model('새폴더/model1')\n",
        "불러온모델.summary()"
      ],
      "metadata": {
        "colab": {
          "base_uri": "https://localhost:8080/"
        },
        "id": "BniLaiHwaT-7",
        "outputId": "c220c522-d145-44ff-cafb-34261e8f253b"
      },
      "execution_count": 33,
      "outputs": [
        {
          "output_type": "stream",
          "name": "stdout",
          "text": [
            "Model: \"sequential_7\"\n",
            "_________________________________________________________________\n",
            " Layer (type)                Output Shape              Param #   \n",
            "=================================================================\n",
            " random_flip_5 (RandomFlip)  (None, 64, 64, 3)         0         \n",
            "                                                                 \n",
            " random_rotation_5 (RandomR  (None, 64, 64, 3)         0         \n",
            " otation)                                                        \n",
            "                                                                 \n",
            " random_zoom_5 (RandomZoom)  (None, 64, 64, 3)         0         \n",
            "                                                                 \n",
            " conv2d_21 (Conv2D)          (None, 64, 64, 32)        896       \n",
            "                                                                 \n",
            " max_pooling2d_21 (MaxPooli  (None, 32, 32, 32)        0         \n",
            " ng2D)                                                           \n",
            "                                                                 \n",
            " conv2d_22 (Conv2D)          (None, 32, 32, 64)        18496     \n",
            "                                                                 \n",
            " max_pooling2d_22 (MaxPooli  (None, 16, 16, 64)        0         \n",
            " ng2D)                                                           \n",
            "                                                                 \n",
            " dropout_14 (Dropout)        (None, 16, 16, 64)        0         \n",
            "                                                                 \n",
            " conv2d_23 (Conv2D)          (None, 16, 16, 128)       73856     \n",
            "                                                                 \n",
            " max_pooling2d_23 (MaxPooli  (None, 8, 8, 128)         0         \n",
            " ng2D)                                                           \n",
            "                                                                 \n",
            " flatten_7 (Flatten)         (None, 8192)              0         \n",
            "                                                                 \n",
            " dense_14 (Dense)            (None, 128)               1048704   \n",
            "                                                                 \n",
            " dropout_15 (Dropout)        (None, 128)               0         \n",
            "                                                                 \n",
            " dense_15 (Dense)            (None, 1)                 129       \n",
            "                                                                 \n",
            "=================================================================\n",
            "Total params: 1142081 (4.36 MB)\n",
            "Trainable params: 1142081 (4.36 MB)\n",
            "Non-trainable params: 0 (0.00 Byte)\n",
            "_________________________________________________________________\n"
          ]
        }
      ]
    }
  ]
}